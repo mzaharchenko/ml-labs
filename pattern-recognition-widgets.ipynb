{
 "cells": [
  {
   "cell_type": "code",
   "execution_count": 1,
   "metadata": {
    "ExecuteTime": {
     "end_time": "2017-11-17T10:36:58.075396Z",
     "start_time": "2017-11-17T10:36:58.065588Z"
    },
    "collapsed": false,
    "hide_input": true
   },
   "outputs": [],
   "source": [
    "import ipywidgets as widgets\n",
    "from ipywidgets import interact\n",
    "from ipywidgets import Layout, Button, Box, VBox,HBox, Label\n",
    "from IPython import get_ipython\n",
    "ipython = get_ipython()\n",
    "from IPython.display import clear_output"
   ]
  },
  {
   "cell_type": "code",
   "execution_count": 2,
   "metadata": {
    "ExecuteTime": {
     "end_time": "2017-11-17T10:36:58.282106Z",
     "start_time": "2017-11-17T10:36:58.077086Z"
    },
    "collapsed": false,
    "hide_input": true
   },
   "outputs": [],
   "source": [
    "def prob_slider():\n",
    "    slider = widgets.FloatSlider(value=0.5,\n",
    "    min=0,\n",
    "    max=1.0,\n",
    "    step=0.05,\n",
    "    readout = False\n",
    "   )\n",
    "    pw1 = widgets.FloatText(\n",
    "    value=0.5,\n",
    "    description='$p(\\omega_1)$',\n",
    "    disabled=True,\n",
    "    width = '150px'\n",
    "    )\n",
    "    pw2 = widgets.FloatText(\n",
    "    value=0.5,\n",
    "    description='$p(\\omega_2)$',\n",
    "    disabled=True,\n",
    "    width = '150px'\n",
    "    )\n",
    "    def handle_slider_change(change):\n",
    "        pw1.value = change.new\n",
    "        pw2.value = round(1 -change.new,2)\n",
    "\n",
    "    slider.observe(handle_slider_change, names='value')\n",
    "    grid = HBox([pw1,slider,pw2],flex_flow = 'row',align_items = 'space-between')\n",
    "    return grid\n",
    "\n",
    "def on_button_clicked(b):\n",
    "    if  b.button_style == '':\n",
    "        b.button_style = 'danger'\n",
    "    else:\n",
    "         b.button_style = ''\n",
    "\n",
    "def button_grid():\n",
    "    item_layout = Layout(height='30px', width='30px')\n",
    "    items = [Button(layout=item_layout, button_style='') for i in range(35)]\n",
    "    for i in items:\n",
    "        i.on_click(on_button_clicked)\n",
    "    box_layout = Layout(width = '180px')\n",
    "    grid = Box(children=items, layout=box_layout)\n",
    "    return grid\n",
    "\n",
    "def pass_data(b):\n",
    "    clear_output()\n",
    "    l1 = list()\n",
    "    for i in letter1.children:\n",
    "        if i.button_style == 'danger':\n",
    "            l1.append(1)\n",
    "        else:\n",
    "            l1.append(0)\n",
    "    l2 = list()\n",
    "    for i in letter2.children:\n",
    "        if i.button_style == 'danger':\n",
    "            l2.append(1)\n",
    "        else:\n",
    "            l2.append(0)\n",
    "    global l, pw\n",
    "    l = [l1,l2]\n",
    "    pw = [prob.children[0].value,prob.children[2].value]\n",
    "    ipython.magic('%store l')\n",
    "    ipython.magic('%store pw')\n",
    "    ipython.magic('%run pattern-recognition-script.ipynb')\n",
    "    "
   ]
  },
  {
   "cell_type": "code",
   "execution_count": 3,
   "metadata": {
    "ExecuteTime": {
     "end_time": "2017-11-17T10:36:58.554377Z",
     "start_time": "2017-11-17T10:36:58.285930Z"
    },
    "collapsed": false,
    "hide_input": true
   },
   "outputs": [],
   "source": [
    "def dash():\n",
    "    global letter1, letter2,prob\n",
    "    title = Label(value='Pattern recognition')\n",
    "    prob = prob_slider()\n",
    "    letter1 = button_grid()\n",
    "    letter2 = button_grid()\n",
    "    letters = HBox([letter1,letter2],flex_flow = 'row',align_items = 'space-between')\n",
    "    button = Button(description = 'Go!')\n",
    "    button.on_click(pass_data)\n",
    "    form_items = [title,letters,prob,button]\n",
    "    form = Box(form_items, layout=Layout(\n",
    "        display='flex',\n",
    "        flex_flow='column',\n",
    "        align_items='center'\n",
    "    ))\n",
    "    return form"
   ]
  },
  {
   "cell_type": "code",
   "execution_count": 6,
   "metadata": {
    "ExecuteTime": {
     "end_time": "2017-11-17T11:51:33.529072Z",
     "start_time": "2017-11-17T11:51:33.224320Z"
    },
    "collapsed": false,
    "hide_input": false
   },
   "outputs": [],
   "source": [
    "form = dash()\n",
    "display(form)"
   ]
  },
  {
   "cell_type": "code",
   "execution_count": null,
   "metadata": {
    "collapsed": true
   },
   "outputs": [],
   "source": []
  }
 ],
 "metadata": {
  "kernelspec": {
   "display_name": "Python 3",
   "language": "python",
   "name": "python3"
  },
  "language_info": {
   "codemirror_mode": {
    "name": "ipython",
    "version": 3
   },
   "file_extension": ".py",
   "mimetype": "text/x-python",
   "name": "python",
   "nbconvert_exporter": "python",
   "pygments_lexer": "ipython3",
   "version": "3.6.0"
  },
  "toc": {
   "nav_menu": {},
   "number_sections": true,
   "sideBar": true,
   "skip_h1_title": false,
   "toc_cell": false,
   "toc_position": {},
   "toc_section_display": "block",
   "toc_window_display": false
  },
  "widgets": {
   "state": {
    "cf4a820bc4f640eb988274044749835a": {
     "views": [
      {
       "cell_index": 3
      }
     ]
    }
   },
   "version": "1.2.0"
  }
 },
 "nbformat": 4,
 "nbformat_minor": 2
}
