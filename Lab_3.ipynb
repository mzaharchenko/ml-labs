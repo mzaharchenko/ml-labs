{
 "cells": [
  {
   "cell_type": "markdown",
   "metadata": {
    "collapsed": true
   },
   "source": [
    "# Распознавание образов, описываемых гауссовскими случайными векторами с различными матрицами ковариаций"
   ]
  },
  {
   "cell_type": "markdown",
   "metadata": {},
   "source": [
    "### 1. Задание исходных данных"
   ]
  },
  {
   "cell_type": "code",
   "execution_count": 185,
   "metadata": {
    "collapsed": true
   },
   "outputs": [],
   "source": [
    "import numpy as np\n",
    "from scipy.stats import norm\n",
    "np.set_printoptions(precision=5)\n",
    "np.set_printoptions(suppress= True)"
   ]
  },
  {
   "cell_type": "code",
   "execution_count": 186,
   "metadata": {
    "collapsed": false
   },
   "outputs": [],
   "source": [
    "#m1=[10 -2], m2=[-4 3], m3=[1 -2], C1=[2 -1; -1 3], C2=[5 1; 1 5], C3=[4 -1; -1 4].\n",
    "m = np.matrix([[10,-4,1],[-2,3,-2]]) #матожидания\n",
    "C1, C2, C3 = np.matrix([[2, -1],[-1, 3]]), np.matrix([[5, 1],[1, 5]]),np.matrix([[4, -1],[-1, 4]]) #матрицы ковариаций\n",
    "n = 2 #размерность признакового пространства\n",
    "M = 3 #число классов\n",
    "pw = np.array([0.3,0.4,0.3]) #апостериорные вероятности"
   ]
  },
  {
   "cell_type": "code",
   "execution_count": 188,
   "metadata": {
    "collapsed": false
   },
   "outputs": [],
   "source": [
    "C = [C1,C2,C3]\n",
    "C_= [np.linalg.inv(C1), np.linalg.inv(C2),np.linalg.inv(C3)]"
   ]
  },
  {
   "cell_type": "markdown",
   "metadata": {},
   "source": [
    "### 2. Расчет разделяющих функций и вероятностей ошибок разпознавания"
   ]
  },
  {
   "cell_type": "code",
   "execution_count": 189,
   "metadata": {
    "collapsed": false
   },
   "outputs": [],
   "source": [
    "G = np.zeros((M,n+1))\n",
    "P_err,P_err_,mg,Dg,l0 = np.zeros((M,M)), np.zeros((M,M)),np.zeros((M,M)), np.zeros((M,M)), np.zeros((M,M))"
   ]
  },
  {
   "cell_type": "code",
   "execution_count": 190,
   "metadata": {
    "collapsed": false
   },
   "outputs": [],
   "source": [
    "for i in range(M):\n",
    "    for j in range(i+1,M):\n",
    "        dmij = m[:,i] - m[:,j]\n",
    "        l0[i,j] = np.log(pw[j]/pw[i])\n",
    "        dti = np.linalg.det(C[i])\n",
    "        dtj = np.linalg.det(C[j])\n",
    "        trij = np.trace(np.dot(C_[j],C[i]) - np.ones(n))\n",
    "        trji = np.trace(np.ones(n)-np.dot(C_[i],C[j]))\n",
    "        mg1 = 0.5*(trij + dmij.T*C_[j]*dmij-np.log(dti/dtj))\n",
    "        Dg1=0.5*trij**2+dmij.T*C_[j]*C[i]*C_[j]*dmij\n",
    "        mg2 = 0.5*(trij - dmij.T*C_[i]*dmij+np.log(dtj/dti))\n",
    "        Dg2=0.5*trij**2+dmij.T*C_[i]*C[j]*C_[i]*dmij\n",
    "        \n",
    "        sD1=np.sqrt(Dg1)\n",
    "        sD2=np.sqrt(Dg2);\n",
    "        P_err[i,j]=norm.cdf(l0[i,j],mg1,sD1)\n",
    "        P_err[j,i]=1-norm.cdf(l0[i,j],mg2,sD2);\n",
    "        mu2=(1/8)*dmij.T*((C[i]/2+C[j]/2)**-1)*dmij+0.5*np.log((dti+dtj)/(2*np.sqrt(dti*dtj)));#расстояние Бхатачария\n",
    "        \n",
    "        P_err_[i,j]=np.sqrt(pw[j]/pw[i])*np.exp(-mu2);\n",
    "        P_err_[j,i]=np.sqrt(pw[i]/pw[j])*np.exp(-mu2);#границы Чернова\n",
    "    P_err_[i,i]=1-np.sum(P_err_[i,:])\n",
    "    P_err[i,i]=1-np.sum(P_err[i,:])#нижняя граница вероятности правильного распознавания"
   ]
  },
  {
   "cell_type": "code",
   "execution_count": 281,
   "metadata": {
    "collapsed": false
   },
   "outputs": [
    {
     "name": "stdout",
     "output_type": "stream",
     "text": [
      "Теоретическая матрица вероятностей ошибок\n",
      " [[ 0.99971  0.00001  0.00027]\n",
      " [ 0.00172  0.96892  0.02935]\n",
      " [ 0.01079  0.07327  0.91593]]\n"
     ]
    }
   ],
   "source": [
    "print('Теоретическая матрица вероятностей ошибок\\n',P_err)"
   ]
  },
  {
   "cell_type": "code",
   "execution_count": 282,
   "metadata": {
    "collapsed": false
   },
   "outputs": [
    {
     "name": "stdout",
     "output_type": "stream",
     "text": [
      "Матрица вероятностей ошибок на основе границы Чернова\n",
      " [[ 0.97726  0.00042  0.02232]\n",
      " [ 0.00031  0.78667  0.21301]\n",
      " [ 0.02232  0.28401  0.69366]]\n"
     ]
    }
   ],
   "source": [
    "print('Матрица вероятностей ошибок на основе границы Чернова\\n',P_err_)"
   ]
  },
  {
   "cell_type": "markdown",
   "metadata": {
    "collapsed": false
   },
   "source": [
    "### 3. Тестирование алгоритма методом статистических испытаний"
   ]
  },
  {
   "cell_type": "code",
   "execution_count": 296,
   "metadata": {
    "collapsed": false
   },
   "outputs": [],
   "source": [
    "from numpy.linalg import cholesky\n",
    "def randncor(n,N,C):\n",
    "    try:\n",
    "        A = cholesky(C)\n",
    "    except LinAlgError:\n",
    "        m=0\n",
    "        print('A is not positive definite')\n",
    "    m = n\n",
    "    u = np.random.randn(m,N)\n",
    "    x = A.conj().transpose().dot(u)\n",
    "    return x     "
   ]
  },
  {
   "cell_type": "code",
   "execution_count": 297,
   "metadata": {
    "collapsed": false
   },
   "outputs": [],
   "source": [
    "x = np.matrix(np.ones((n,1)))\n",
    "u = np.zeros([M,1])\n",
    "P_err_experiment = np.zeros((M,M))\n",
    "K = 10"
   ]
  },
  {
   "cell_type": "code",
   "execution_count": 298,
   "metadata": {
    "collapsed": false
   },
   "outputs": [],
   "source": [
    "XK = np.zeros((n, 3* K))"
   ]
  },
  {
   "cell_type": "code",
   "execution_count": 299,
   "metadata": {
    "collapsed": false
   },
   "outputs": [],
   "source": [
    "for k in range(K):\n",
    "    for i in range(M):\n",
    "        x_ = randncor(n,1,C[i])\n",
    "        x[:n,0] = m[:,i] + x_\n",
    "        XK[:n, (i - 1) * K + k] = x[:n,0].ravel()\n",
    "        for j in range(M):\n",
    "            u[j]= -0.5*np.transpose(x-m[:,j])*C_[j]*(x-m[:,j])-0.5*np.linalg.det(C[j])+np.log(pw[j])\n",
    "        um,umi = u.max(), np.where(u == u.max())[0]\n",
    "        P_err_experiment[i,umi] = P_err_experiment[i,umi]+1"
   ]
  },
  {
   "cell_type": "code",
   "execution_count": 300,
   "metadata": {
    "collapsed": false
   },
   "outputs": [
    {
     "name": "stdout",
     "output_type": "stream",
     "text": [
      "Экспериментальная матрица вероятностей ошибок\n",
      " [[ 1.   0.   0. ]\n",
      " [ 0.   0.8  0.2]\n",
      " [ 0.1  0.   0.9]]\n"
     ]
    }
   ],
   "source": [
    "print('Экспериментальная матрица вероятностей ошибок\\n',P_err_experiment/ K)"
   ]
  },
  {
   "cell_type": "markdown",
   "metadata": {},
   "source": [
    "### 4. Визуализация областей принятия решений"
   ]
  },
  {
   "cell_type": "code",
   "execution_count": 308,
   "metadata": {
    "collapsed": false
   },
   "outputs": [
    {
     "data": {
      "text/plain": [
       "<matplotlib.axes._subplots.AxesSubplot at 0x7fee660c29b0>"
      ]
     },
     "execution_count": 308,
     "metadata": {},
     "output_type": "execute_result"
    }
   ],
   "source": [
    "from matplotlib import pyplot as plt\n",
    "fig = plt.figure() \n",
    "ax1 = fig.add_subplot(111)\n",
    "ax1.scatter(XK[0,:K],XK[1,:K], c = 'b')\n",
    "ax1.scatter(XK[0, K:2*K], XK[1, K:2*K],c= 'r')\n",
    "ax1.scatter(XK[0, 2*K:3*K], XK[1, 2*K:3*K],c=  'g')\n",
    "fig.add_subplot(ax1)"
   ]
  },
  {
   "cell_type": "code",
   "execution_count": 309,
   "metadata": {
    "collapsed": false
   },
   "outputs": [],
   "source": [
    "# Код для двумерного случая\n",
    "\n",
    "import matplotlib\n",
    "import matplotlib.cm as cm\n",
    "import matplotlib.mlab as mlab\n",
    "import matplotlib.pyplot as plt\n",
    "import math\n",
    "from scipy.stats import multivariate_normal\n",
    "\n",
    "matplotlib.rcParams['xtick.direction'] = 'out'\n",
    "matplotlib.rcParams['ytick.direction'] = 'out'\n",
    "\n",
    "\n",
    "if n == 2:\n",
    "    xmin1 = -4*math.sqrt(D)+ m[0,:].min()\n",
    "    xmax1 =  4*math.sqrt(D)+ m[0,:].max()\n",
    "    \n",
    "    xmin2 = -4*math.sqrt(D)+ m[1,:].min()\n",
    "    xmax2 =  4*math.sqrt(D)+ m[1,:].max()\n",
    "    \n",
    "    step = 0.05\n",
    "    x1 = np.arange(xmin1,xmax2,step)\n",
    "    x2 = np.arange(xmin2,xmax2,step)\n",
    "    \n",
    "    X1, X2 = np.meshgrid(x1,x2)\n",
    "    x12=np.column_stack([X1.ravel(),X2.ravel()])\n",
    "    \n",
    "    ax = plt.subplot()\n",
    "    for i in range(M):\n",
    "        f2 = multivariate_normal.pdf(x12,mean = np.array(m[:,i]).ravel(),cov = C[i])\n",
    "        f3 = f2.reshape(len(x2),len(x1)).copy()\n",
    "        CS = ax.contour(x1, x2, f3,[0.01,0.5*max(f3.ravel())],cmap=cm.prism)\n",
    "        ax.clabel(CS, inline=1, fontsize=10)\n",
    "        for j in range(i+1,M):\n",
    "            wij = C_[j]*(m[:,i] - m[:,j])\n",
    "            wij0 = -0.5*np.transpose(m[:,i] +  m[:,j]) *C_[j]*(m[:,i] -  m[:,j])\n",
    "            f4 = np.transpose(wij) * np.transpose(x12)+wij0\n",
    "            f5 = f4.reshape(len(x2),len(x1)).copy()\n",
    "            ax.contour(x1,x2,f5,[l0[i,j]+0.0001],cmap=cm.prism)\n",
    "        fig.add_subplot(ax) "
   ]
  },
  {
   "cell_type": "code",
   "execution_count": 310,
   "metadata": {
    "collapsed": false
   },
   "outputs": [
    {
     "data": {
      "image/png": "[encoded data removed]",
      "text/plain": [
       "<matplotlib.figure.Figure at 0x7fee660c27f0>"
      ]
     },
     "metadata": {},
     "output_type": "display_data"
    }
   ],
   "source": [
    "plt.show()"
   ]
  },
  {
   "cell_type": "markdown",
   "metadata": {
    "collapsed": true
   },
   "source": [
    "**************"
   ]
  }
 ],
 "metadata": {
  "kernelspec": {
   "display_name": "Python 3",
   "language": "python",
   "name": "python3"
  },
  "language_info": {
   "codemirror_mode": {
    "name": "ipython",
    "version": 3
   },
   "file_extension": ".py",
   "mimetype": "text/x-python",
   "name": "python",
   "nbconvert_exporter": "python",
   "pygments_lexer": "ipython3",
   "version": "3.6.0"
  }
 },
 "nbformat": 4,
 "nbformat_minor": 2
}
