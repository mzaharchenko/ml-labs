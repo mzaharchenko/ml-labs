{
 "cells": [
  {
   "cell_type": "code",
   "execution_count": 1,
   "metadata": {
    "ExecuteTime": {
     "end_time": "2017-11-04T18:28:46.093452Z",
     "start_time": "2017-11-04T18:28:45.593892Z"
    },
    "collapsed": true
   },
   "outputs": [],
   "source": [
    "import warnings\n",
    "warnings.filterwarnings('ignore')\n",
    "import numpy as np\n",
    "%matplotlib inline\n",
    "import matplotlib.pyplot as plt\n",
    "from scipy.stats import binom\n",
    "plt.style.use(['seaborn-whitegrid'])\n",
    "plt.rcParams['figure.figsize'] = (9,6)\n",
    "plt.rcParams['font.family'] = 'DejaVu Sans'"
   ]
  },
  {
   "cell_type": "code",
   "execution_count": null,
   "metadata": {
    "collapsed": true
   },
   "outputs": [],
   "source": [
    "n = 35 #кол-во признаков\n",
    "N = 2  #чиcло классов\n",
    "\n",
    "s = np.zeros([n,2])#исходные изображения\n",
    "s[:,0] = l[0]\n",
    "s[:,1] = l[1]\n",
    "\n",
    "pw1 = pw[0]\n",
    "pw2 = pw[1]\n",
    "pw = [pw1,pw2] #априорные вероятности \n",
    "\n",
    "P = 20 #кол-во шагов изменения параметра pi\n",
    "K = 1000 #кол-во испытаний\n",
    "\n",
    "ns = sum(abs(s[:,0]-s[:,1])) #несовпадающие элементы\n",
    "s_ = 1 - s \n",
    "\n",
    "pi,p12th,p21th,p12ex,p21ex = np.zeros(P),np.zeros(P),np.zeros(P),np.zeros(P),np.zeros(P)\n",
    "#pi - вероятность искажения элемента\n",
    "Pc_ = np.zeros([2,2,P])\n",
    "\n",
    "for i in range(P):\n",
    "    pi[i] = (1/P)*i\n",
    "    pI = pi[i]\n",
    "    \n",
    "    if pI == 0: \n",
    "        pI=0.0001\n",
    "    if pI == 0.5: \n",
    "        pI=0.4999\n",
    "        \n",
    "    pI_ = 1-pI\n",
    "    G1 = np.zeros(n)\n",
    "    G2 = np.zeros(n) \n",
    "    \n",
    "    for a in range(n):\n",
    "        G1[a]=np.log((s[a,0]*pI_+s_[a,0]*pI)/(s[a,1]*pI_+s_[a,1]*pI))\n",
    "        G2[a]=np.log((s[a,0]*pI+s_[a,0]*pI_)/(s[a,1]*pI+s_[a,1]*pI_))\n",
    "    l0_ = np.log(pw[1]/pw[0])\n",
    "    L0 = l0_/(2*np.log(pI_)-2*np.log(pI)) + ns/2\n",
    "    L0r = np.floor(L0)\n",
    "    if pI<0.5:\n",
    "        p12th[i] = binom.cdf(L0r,ns,pI_)\n",
    "        p21th[i] = 1-binom.cdf(L0r,ns,pI)\n",
    "    else:\n",
    "        p12th[i] = 1-binom.cdf(L0r,ns,pI_)\n",
    "        p21th[i] = binom.cdf(L0r,ns,pI)\n",
    "    \n",
    "    for k in range(K):\n",
    "        for j in range(N):\n",
    "            x = s[:,j].copy()\n",
    "            r = np.random.rand(n)\n",
    "            ir = np.where(r<pI)[0]\n",
    "            x[ir] = 1 - x[ir]\n",
    "            x_ = 1 - x\n",
    "            u = np.dot(G1,x) + np.dot(G2,x_) - l0_\n",
    "            if u > 0:\n",
    "                iai = 0\n",
    "            else:\n",
    "                iai = 1\n",
    "            Pc_[iai,j,i] = Pc_[iai,j,i]+1\n",
    "    Pc_/= K \n",
    "    p12ex[i] = Pc_[1,0,i] \n",
    "    p21ex[i] = Pc_[0,1,i]\n",
    "    \n",
    "plt.rcParams['figure.figsize'] = (15, 12)\n",
    "ms= 1\n",
    "axes = plt.gca()\n",
    "axes.set_xlim(min(pi), max(pi))\n",
    "axes.set_ylim(-0.01, ms)\n",
    "plt.plot(pi,p12th,'b',label = 'p12th',linewidth=2.0)\n",
    "plt.plot(pi,p21th,'r',label = 'p21th',linewidth=2.0)\n",
    "plt.plot(pi,p12ex,'--oy',label = 'p12ex',linewidth=2.0)\n",
    "plt.plot(pi,p21ex,'--^g',label = 'p21ex',linewidth=2.0)\n",
    "plt.title('Теоретические вероятности ошибок и их оценки')\n",
    "plt.xlabel('pi')\n",
    "plt.ylabel('P')\n",
    "ann = 'pw = {}'.format(pw)\n",
    "plt.annotate(ann,(0.1,0.75*ms)) \n",
    "plt.legend();"
   ]
  },
  {
   "cell_type": "code",
   "execution_count": 1,
   "metadata": {
    "ExecuteTime": {
     "end_time": "2017-11-04T18:44:42.824583Z",
     "start_time": "2017-11-04T18:44:42.801521Z"
    },
    "collapsed": true
   },
   "outputs": [],
   "source": [
    "%store -d l,pw"
   ]
  }
 ],
 "metadata": {
  "kernelspec": {
   "display_name": "Python 3",
   "language": "python",
   "name": "python3"
  },
  "language_info": {
   "codemirror_mode": {
    "name": "ipython",
    "version": 3
   },
   "file_extension": ".py",
   "mimetype": "text/x-python",
   "name": "python",
   "nbconvert_exporter": "python",
   "pygments_lexer": "ipython3",
   "version": "3.6.0"
  }
 },
 "nbformat": 4,
 "nbformat_minor": 2
}
