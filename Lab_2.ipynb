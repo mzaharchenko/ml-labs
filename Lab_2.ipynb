{
 "cells": [
  {
   "cell_type": "markdown",
   "metadata": {
    "collapsed": true
   },
   "source": [
    "# Распознавание образов, описываемых гауссовскими случайными векторами с одинаковыми матрицами ковариаций"
   ]
  },
  {
   "cell_type": "markdown",
   "metadata": {},
   "source": [
    "### 1. Задание исходных данных"
   ]
  },
  {
   "cell_type": "code",
   "execution_count": 306,
   "metadata": {
    "collapsed": true
   },
   "outputs": [],
   "source": [
    "import numpy as np"
   ]
  },
  {
   "cell_type": "code",
   "execution_count": 250,
   "metadata": {
    "collapsed": false
   },
   "outputs": [],
   "source": [
    "m = np.matrix([[-5,1,0],[1,-4,8],[10,-2,1]]) #матожидания\n",
    "C = np.matrix([[3, 1, 1],[1, 3, 1],[ 1, 1, 3]]) #матрица ковариаций"
   ]
  },
  {
   "cell_type": "code",
   "execution_count": 251,
   "metadata": {
    "collapsed": true
   },
   "outputs": [],
   "source": [
    "n = 3 #размерность признакового пространства\n",
    "M = 3 #число классов"
   ]
  },
  {
   "cell_type": "code",
   "execution_count": 252,
   "metadata": {
    "collapsed": true
   },
   "outputs": [],
   "source": [
    "pw = [0.4,0.3,0.3] #апостериорные вероятности"
   ]
  },
  {
   "cell_type": "code",
   "execution_count": 333,
   "metadata": {
    "collapsed": false
   },
   "outputs": [],
   "source": [
    "import math\n",
    "m=np.matrix([[0, 4],[0, 1]])\n",
    "n = 2\n",
    "M = 2\n",
    "pw = [0.9,0.1]\n",
    "\n",
    "C=np.zeros((n,n))\n",
    "D=1\n",
    "ro = 0.7\n",
    "alf  = - math.log(ro)\n",
    "for i in range(n):\n",
    "    for j in range(n):\n",
    "        C[i,j] = D*math.exp(-alf*abs(i-j))\n",
    "C = np.matrix(C)"
   ]
  },
  {
   "cell_type": "code",
   "execution_count": 336,
   "metadata": {
    "collapsed": false
   },
   "outputs": [
    {
     "data": {
      "text/plain": [
       "matrix([[ 1. ,  0.7],\n",
       "        [ 0.7,  1. ]])"
      ]
     },
     "execution_count": 336,
     "metadata": {},
     "output_type": "execute_result"
    }
   ],
   "source": [
    "C"
   ]
  },
  {
   "cell_type": "markdown",
   "metadata": {},
   "source": [
    "### 2. Расчет разделяющих функций и вероятностей ошибок разпознавания"
   ]
  },
  {
   "cell_type": "code",
   "execution_count": 334,
   "metadata": {
    "collapsed": false
   },
   "outputs": [],
   "source": [
    "G = np.zeros((M,n+1))\n",
    "P_err, l0 = np.zeros((M,M)), np.zeros((M,M))"
   ]
  },
  {
   "cell_type": "code",
   "execution_count": 335,
   "metadata": {
    "collapsed": false
   },
   "outputs": [
    {
     "ename": "TypeError",
     "evalue": "ufunc 'invert' not supported for the input types, and the inputs could not be safely coerced to any supported types according to the casting rule ''safe''",
     "output_type": "error",
     "traceback": [
      "\u001b[0;31m---------------------------------------------------------------------------\u001b[0m",
      "\u001b[0;31mTypeError\u001b[0m                                 Traceback (most recent call last)",
      "\u001b[0;32m<ipython-input-335-54d87a0f593f>\u001b[0m in \u001b[0;36m<module>\u001b[0;34m()\u001b[0m\n\u001b[0;32m----> 1\u001b[0;31m \u001b[0mC_\u001b[0m \u001b[0;34m=\u001b[0m \u001b[0mnp\u001b[0m\u001b[0;34m.\u001b[0m\u001b[0minvert\u001b[0m\u001b[0;34m(\u001b[0m\u001b[0mC\u001b[0m\u001b[0;34m)\u001b[0m\u001b[0;34m\u001b[0m\u001b[0m\n\u001b[0m",
      "\u001b[0;31mTypeError\u001b[0m: ufunc 'invert' not supported for the input types, and the inputs could not be safely coerced to any supported types according to the casting rule ''safe''"
     ]
    }
   ],
   "source": [
    "C_ = np.invert(C)"
   ]
  },
  {
   "cell_type": "code",
   "execution_count": 311,
   "metadata": {
    "collapsed": true
   },
   "outputs": [],
   "source": [
    "from scipy.stats import norm"
   ]
  },
  {
   "cell_type": "code",
   "execution_count": 312,
   "metadata": {
    "collapsed": false
   },
   "outputs": [],
   "source": [
    "for i in range(M):\n",
    "    G[i,range(n)] = np.transpose(C_*m[:,0])\n",
    "    G[i,n] = -0.5*np.transpose(m[:,i])*C_*m[:,i]\n",
    "    for j in range(i+1,M):\n",
    "        l0[i,j] = np.log(pw[j]/pw[i])\n",
    "        h = 0.5*np.transpose((m[:,i]-m[:,j]))*C_*(m[:,i]-m[:,j])\n",
    "        sD = np.sqrt(np.abs(h))\n",
    "        P_err[i,j] = norm.cdf(l0[i,j],h,sD)\n",
    "        P_err[j,i] = 1 - norm.cdf(l0[i,j],-h,sD)\n",
    "    P_err[i,i] = 1 - np.sum(P_err[i,:])\n",
    "        "
   ]
  },
  {
   "cell_type": "code",
   "execution_count": 313,
   "metadata": {
    "collapsed": false
   },
   "outputs": [
    {
     "name": "stdout",
     "output_type": "stream",
     "text": [
      "[[  7.82701129e-04   9.99217299e-01]\n",
      " [  9.99217299e-01   7.82701129e-04]]\n"
     ]
    }
   ],
   "source": [
    "print(P_err)"
   ]
  },
  {
   "cell_type": "markdown",
   "metadata": {
    "collapsed": false
   },
   "source": [
    "### 3. Тестирование алгоритма методом статистических испытаний"
   ]
  },
  {
   "cell_type": "code",
   "execution_count": 314,
   "metadata": {
    "collapsed": true
   },
   "outputs": [],
   "source": [
    "from numpy.linalg import cholesky\n",
    "def randncor(n,N,C):\n",
    "    try:\n",
    "        A = cholesky(C)\n",
    "    except LinAlgError:\n",
    "        m=0\n",
    "        print('A is not positive definite')\n",
    "    m = n\n",
    "    u = np.random.randn(m,N)\n",
    "    x = np.transpose(A)*u\n",
    "    return x     "
   ]
  },
  {
   "cell_type": "code",
   "execution_count": 315,
   "metadata": {
    "collapsed": false
   },
   "outputs": [],
   "source": [
    "x = np.matrix(np.ones((n+1,1)))\n",
    "P_err_experiment = np.zeros((M,M))\n",
    "K = 10000"
   ]
  },
  {
   "cell_type": "code",
   "execution_count": 316,
   "metadata": {
    "collapsed": false
   },
   "outputs": [],
   "source": [
    "for k in range(K):\n",
    "    for i in range(M):\n",
    "        x_ = randncor(n,1,C)\n",
    "        x[0:n,0] = m[:,i] + x_\n",
    "        u = G*x+np.log(np.transpose(pw))\n",
    "        um,umi = u.max(), np.where(u == u.max())[1]\n",
    "        P_err_experiment[i,umi] = P_err_experiment[i,umi]+1"
   ]
  },
  {
   "cell_type": "code",
   "execution_count": 317,
   "metadata": {
    "collapsed": false
   },
   "outputs": [],
   "source": [
    "P_err_experiment /=K "
   ]
  },
  {
   "cell_type": "code",
   "execution_count": 318,
   "metadata": {
    "collapsed": false
   },
   "outputs": [
    {
     "data": {
      "text/plain": [
       "array([[ 1.,  1.],\n",
       "       [ 1.,  1.]])"
      ]
     },
     "execution_count": 318,
     "metadata": {},
     "output_type": "execute_result"
    }
   ],
   "source": [
    "P_err_experiment"
   ]
  },
  {
   "cell_type": "code",
   "execution_count": null,
   "metadata": {
    "collapsed": true
   },
   "outputs": [],
   "source": []
  }
 ],
 "metadata": {
  "kernelspec": {
   "display_name": "Python 3",
   "language": "python",
   "name": "python3"
  },
  "language_info": {
   "codemirror_mode": {
    "name": "ipython",
    "version": 3
   },
   "file_extension": ".py",
   "mimetype": "text/x-python",
   "name": "python",
   "nbconvert_exporter": "python",
   "pygments_lexer": "ipython3",
   "version": "3.6.0"
  }
 },
 "nbformat": 4,
 "nbformat_minor": 2
}
