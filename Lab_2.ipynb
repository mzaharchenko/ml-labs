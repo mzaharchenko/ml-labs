{
 "cells": [
  {
   "cell_type": "markdown",
   "metadata": {
    "collapsed": true
   },
   "source": [
    "# Распознавание образов, описываемых гауссовскими случайными векторами с одинаковыми матрицами ковариаций"
   ]
  },
  {
   "cell_type": "markdown",
   "metadata": {},
   "source": [
    "### 1. Задание исходных данных"
   ]
  },
  {
   "cell_type": "code",
   "execution_count": 63,
   "metadata": {
    "collapsed": true
   },
   "outputs": [],
   "source": [
    "import numpy as np\n",
    "np.set_printoptions(precision=3)"
   ]
  },
  {
   "cell_type": "code",
   "execution_count": 29,
   "metadata": {
    "collapsed": false
   },
   "outputs": [],
   "source": [
    "m = np.matrix([[-5,1,0],[1,-4,8],[10,-2,1]]) #матожидания\n",
    "C = np.matrix([[3, 1, 1],[1, 3, 1],[ 1, 1, 3]]) #матрица ковариаций\n",
    "n = 3 #размерность признакового пространства\n",
    "M = 3 #число классов\n",
    "pw = np.array([0.4,0.2,0.4]) #апостериорные вероятности"
   ]
  },
  {
   "cell_type": "code",
   "execution_count": 87,
   "metadata": {
    "collapsed": false
   },
   "outputs": [],
   "source": [
    "#Условия из примера\n",
    "# Для М = 2\n",
    "\n",
    "m=np.matrix([[0, 4],[0, 1]])\n",
    "n = 2\n",
    "M = 2\n",
    "pw = np.array([0.9,0.1])\n",
    "\n",
    "# # Для М = 4\n",
    "\n",
    "# m=np.matrix([[2, -2,2,-2],[2,2,-2,-2]])\n",
    "# n = 2\n",
    "# M = 4\n",
    "# pw = np.array([0.4,0.2,0.1,0.3])\n",
    "\n",
    "\n",
    "import math\n",
    "C=np.zeros((n,n))\n",
    "D=1\n",
    "ro = 0.7\n",
    "alf  = - math.log(ro)\n",
    "for i in range(n):\n",
    "    for j in range(n):\n",
    "        C[i,j] = D*math.exp(-alf*abs(i-j))"
   ]
  },
  {
   "cell_type": "code",
   "execution_count": 3,
   "metadata": {
    "collapsed": false
   },
   "outputs": [],
   "source": [
    "#Вариант 7\n",
    "\n",
    "# m = np.matrix([[3,1],[-1,7]]) \n",
    "# C = np.matrix([[3, 1],[1,4]])\n",
    "# n = M = 2 \n",
    "# pw = np.array([0.1,0.9])"
   ]
  },
  {
   "cell_type": "markdown",
   "metadata": {},
   "source": [
    "### 2. Расчет разделяющих функций и вероятностей ошибок разпознавания"
   ]
  },
  {
   "cell_type": "code",
   "execution_count": 88,
   "metadata": {
    "collapsed": false
   },
   "outputs": [],
   "source": [
    "G = np.zeros((M,n+1))\n",
    "P_err, l0 = np.zeros((M,M)), np.zeros((M,M))"
   ]
  },
  {
   "cell_type": "code",
   "execution_count": 89,
   "metadata": {
    "collapsed": false
   },
   "outputs": [],
   "source": [
    "C_ = np.linalg.inv(C)"
   ]
  },
  {
   "cell_type": "code",
   "execution_count": 90,
   "metadata": {
    "collapsed": true
   },
   "outputs": [],
   "source": [
    "from scipy.stats import norm"
   ]
  },
  {
   "cell_type": "code",
   "execution_count": 91,
   "metadata": {
    "collapsed": false
   },
   "outputs": [],
   "source": [
    "for i in range(M):\n",
    "    G[i,:n] = np.transpose(C_*m[:,i])\n",
    "    G[i,n] = -0.5*np.transpose(m[:,i])*C_*m[:,i]\n",
    "    for j in range(i+1,M):\n",
    "        l0[i,j] = np.log(pw[j]/pw[i])\n",
    "        h = 0.5*np.transpose((m[:,i]-m[:,j]))*C_*(m[:,i]-m[:,j])\n",
    "        sD = np.sqrt(2*np.abs(h))\n",
    "        P_err[i,j] = norm.cdf(l0[i,j],h,sD)\n",
    "        P_err[j,i] = 1 - norm.cdf(l0[i,j],-h,sD)\n",
    "    P_err[i,i] = 1 - np.sum(P_err[i,:])"
   ]
  },
  {
   "cell_type": "code",
   "execution_count": 92,
   "metadata": {
    "collapsed": false
   },
   "outputs": [
    {
     "name": "stdout",
     "output_type": "stream",
     "text": [
      "[[ 0.998  0.002]\n",
      " [ 0.029  0.971]]\n"
     ]
    }
   ],
   "source": [
    "print(P_err)"
   ]
  },
  {
   "cell_type": "markdown",
   "metadata": {
    "collapsed": false
   },
   "source": [
    "### 3. Тестирование алгоритма методом статистических испытаний"
   ]
  },
  {
   "cell_type": "code",
   "execution_count": 93,
   "metadata": {
    "collapsed": false
   },
   "outputs": [],
   "source": [
    "from numpy.linalg import cholesky\n",
    "def randncor(n,N,C):\n",
    "    try:\n",
    "        A = cholesky(C)\n",
    "    except LinAlgError:\n",
    "        m=0\n",
    "        print('A is not positive definite')\n",
    "    m = n\n",
    "    u = np.random.randn(m,N)\n",
    "    x = A.conj().transpose().dot(u)\n",
    "    return x     "
   ]
  },
  {
   "cell_type": "code",
   "execution_count": 94,
   "metadata": {
    "collapsed": false
   },
   "outputs": [],
   "source": [
    "x = np.matrix(np.ones((n+1,1)))\n",
    "P_err_experiment = np.zeros((M,M))\n",
    "K = 10000"
   ]
  },
  {
   "cell_type": "code",
   "execution_count": 95,
   "metadata": {
    "collapsed": false
   },
   "outputs": [],
   "source": [
    "for k in range(K):\n",
    "    for i in range(M):\n",
    "        x_ = randncor(n,1,C)\n",
    "        x[:n,0] = m[:,i] + x_\n",
    "        u = G*x+np.log(np.matrix(pw).conj().transpose())\n",
    "        um,umi = u.max(), np.where(u == u.max())[0]\n",
    "        P_err_experiment[i,umi] = P_err_experiment[i,umi]+1"
   ]
  },
  {
   "cell_type": "code",
   "execution_count": 96,
   "metadata": {
    "collapsed": false
   },
   "outputs": [],
   "source": [
    "P_err_experiment /=K "
   ]
  },
  {
   "cell_type": "code",
   "execution_count": 97,
   "metadata": {
    "collapsed": false
   },
   "outputs": [
    {
     "data": {
      "text/plain": [
       "array([[ 0.976,  0.024],\n",
       "       [ 0.094,  0.906]])"
      ]
     },
     "execution_count": 97,
     "metadata": {},
     "output_type": "execute_result"
    }
   ],
   "source": [
    "P_err_experiment"
   ]
  },
  {
   "cell_type": "markdown",
   "metadata": {},
   "source": [
    "### 4. Визуализация областей принятия решений"
   ]
  },
  {
   "cell_type": "code",
   "execution_count": 102,
   "metadata": {
    "collapsed": false
   },
   "outputs": [
    {
     "data": {
      "image/png": "[encoded data removed]",
      "text/plain": [
       "<matplotlib.figure.Figure at 0x7fe4090d5438>"
      ]
     },
     "metadata": {},
     "output_type": "display_data"
    }
   ],
   "source": [
    "import matplotlib\n",
    "import matplotlib.cm as cm\n",
    "import matplotlib.mlab as mlab\n",
    "import matplotlib.pyplot as plt\n",
    "\n",
    "from scipy.stats import multivariate_normal\n",
    "\n",
    "matplotlib.rcParams['xtick.direction'] = 'out'\n",
    "matplotlib.rcParams['ytick.direction'] = 'out'\n",
    "\n",
    "if n == 2:\n",
    "    xmin1 = -4*math.sqrt(D)+ m[0,:].min()\n",
    "    xmax1 =  4*math.sqrt(D)+ m[0,:].max()\n",
    "    \n",
    "    xmin2 = -4*math.sqrt(D)+ m[1,:].min()\n",
    "    xmax2 =  4*math.sqrt(D)+ m[1,:].max()\n",
    "    \n",
    "    step = 0.05\n",
    "    x1 = np.arange(xmin1,xmax2,step)\n",
    "    x2 = np.arange(xmin2,xmax2,step)\n",
    "    \n",
    "    X1, X2 = np.meshgrid(x1,x2)\n",
    "    x12=np.column_stack([X1.ravel(),X2.ravel()])\n",
    "    \n",
    "    fig, ax = plt.subplots()\n",
    "    for i in range(M):\n",
    "        f2 = multivariate_normal.pdf(x12,mean = np.array(m[:,i]).ravel(),cov = C)\n",
    "        f3 = f2.reshape(len(x2),len(x1)).copy()\n",
    "        ax.contour(x1, x2, f3,[0.01,0.5*max(f3.ravel())])\n",
    "        ax.clabel(CS, inline=1, fontsize=10)\n",
    "        for j in range(i+1,M):\n",
    "            wij = C_*(m[:,i] - m[:,j])\n",
    "            wij0 = -0.5*(m[:,i] + m[:,j]).conj().T*C_*(m[:,i] - m[:,j])\n",
    "            f4 = wij.conj().T *x12.conj().T\n",
    "            f5 = f4.reshape(len(x2),len(x1)).copy()\n",
    "            ax.contour(x1,x2,f5,[l0[i,j]+0.0001])\n",
    "    plt.show()"
   ]
  }
 ],
 "metadata": {
  "kernelspec": {
   "display_name": "Python 3",
   "language": "python",
   "name": "python3"
  },
  "language_info": {
   "codemirror_mode": {
    "name": "ipython",
    "version": 3
   },
   "file_extension": ".py",
   "mimetype": "text/x-python",
   "name": "python",
   "nbconvert_exporter": "python",
   "pygments_lexer": "ipython3",
   "version": "3.6.0"
  }
 },
 "nbformat": 4,
 "nbformat_minor": 2
}
